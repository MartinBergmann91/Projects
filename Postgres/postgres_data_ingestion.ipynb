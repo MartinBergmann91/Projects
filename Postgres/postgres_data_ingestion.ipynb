{
 "cells": [
  {
   "cell_type": "code",
   "execution_count": 3,
   "metadata": {},
   "outputs": [],
   "source": [
    "import psycopg2\n",
    "import pandas as pd"
   ]
  },
  {
   "cell_type": "code",
   "execution_count": 29,
   "metadata": {},
   "outputs": [],
   "source": [
    "conn.close()\n",
    "conn = psycopg2.connect(\"host=127.0.0.1 dbname=fortune500 user=postgres password=postgres\")\n",
    "cur = conn.cursor()"
   ]
  },
  {
   "cell_type": "code",
   "execution_count": 20,
   "metadata": {},
   "outputs": [],
   "source": [
    "def create_database():\n",
    "    #connect to default database\n",
    "    conn = psycopg2.connect(\"host=127.0.0.1 dbname=postgres user=postgres password=postgres\")\n",
    "    conn.set_session(autocommit = True)\n",
    "    cur = conn.cursor()\n",
    "\n",
    "    #create new database\n",
    "    cur.execute(\"DROP DATABASE IF EXISTS fortune500\")\n",
    "    cur.execute(\"CREATE DATABASE fortune500\")\n",
    "\n",
    "    #close default connection\n",
    "    conn.close()\n",
    "\n",
    "    #conn to new database\n",
    "    conn = psycopg2.connect(\"host=127.0.0.1 dbname=fortune500 user=postgres password=postgres\")\n",
    "    cur = conn.cursor()\n",
    "\n",
    "    return conn, cur"
   ]
  },
  {
   "cell_type": "code",
   "execution_count": 4,
   "metadata": {},
   "outputs": [],
   "source": [
    "f500 = pd.read_csv(r'C:\\Users\\martin.bergmann\\python_scripts\\Projects\\Postgres\\data\\fortune500.csv')"
   ]
  },
  {
   "cell_type": "code",
   "execution_count": 97,
   "metadata": {},
   "outputs": [
    {
     "data": {
      "text/html": [
       "<div>\n",
       "<style scoped>\n",
       "    .dataframe tbody tr th:only-of-type {\n",
       "        vertical-align: middle;\n",
       "    }\n",
       "\n",
       "    .dataframe tbody tr th {\n",
       "        vertical-align: top;\n",
       "    }\n",
       "\n",
       "    .dataframe thead th {\n",
       "        text-align: right;\n",
       "    }\n",
       "</style>\n",
       "<table border=\"1\" class=\"dataframe\">\n",
       "  <thead>\n",
       "    <tr style=\"text-align: right;\">\n",
       "      <th></th>\n",
       "      <th>Year</th>\n",
       "      <th>Rank</th>\n",
       "      <th>Company</th>\n",
       "      <th>Revenue (in millions)</th>\n",
       "      <th>Profit (in millions)</th>\n",
       "    </tr>\n",
       "  </thead>\n",
       "  <tbody>\n",
       "    <tr>\n",
       "      <th>0</th>\n",
       "      <td>1955</td>\n",
       "      <td>1</td>\n",
       "      <td>General Motors</td>\n",
       "      <td>9823.5</td>\n",
       "      <td>806</td>\n",
       "    </tr>\n",
       "    <tr>\n",
       "      <th>1</th>\n",
       "      <td>1955</td>\n",
       "      <td>2</td>\n",
       "      <td>Exxon Mobil</td>\n",
       "      <td>5661.4</td>\n",
       "      <td>584.8</td>\n",
       "    </tr>\n",
       "    <tr>\n",
       "      <th>2</th>\n",
       "      <td>1955</td>\n",
       "      <td>3</td>\n",
       "      <td>U.S. Steel</td>\n",
       "      <td>3250.4</td>\n",
       "      <td>195.4</td>\n",
       "    </tr>\n",
       "    <tr>\n",
       "      <th>3</th>\n",
       "      <td>1955</td>\n",
       "      <td>4</td>\n",
       "      <td>General Electric</td>\n",
       "      <td>2959.1</td>\n",
       "      <td>212.6</td>\n",
       "    </tr>\n",
       "    <tr>\n",
       "      <th>4</th>\n",
       "      <td>1955</td>\n",
       "      <td>5</td>\n",
       "      <td>Esmark</td>\n",
       "      <td>2510.8</td>\n",
       "      <td>19.1</td>\n",
       "    </tr>\n",
       "  </tbody>\n",
       "</table>\n",
       "</div>"
      ],
      "text/plain": [
       "   Year  Rank           Company Revenue (in millions) Profit (in millions)\n",
       "0  1955     1    General Motors                9823.5                  806\n",
       "1  1955     2       Exxon Mobil                5661.4                584.8\n",
       "2  1955     3        U.S. Steel                3250.4                195.4\n",
       "3  1955     4  General Electric                2959.1                212.6\n",
       "4  1955     5            Esmark                2510.8                 19.1"
      ]
     },
     "execution_count": 97,
     "metadata": {},
     "output_type": "execute_result"
    }
   ],
   "source": [
    "f500.head()"
   ]
  },
  {
   "cell_type": "code",
   "execution_count": 17,
   "metadata": {},
   "outputs": [
    {
     "data": {
      "text/plain": [
       "Year         int64\n",
       "Rank         int64\n",
       "Company     object\n",
       "Revenue    float64\n",
       "Profit     float64\n",
       "dtype: object"
      ]
     },
     "execution_count": 17,
     "metadata": {},
     "output_type": "execute_result"
    }
   ],
   "source": [
    "f500.dtypes\n"
   ]
  },
  {
   "cell_type": "code",
   "execution_count": 9,
   "metadata": {},
   "outputs": [
    {
     "name": "stdout",
     "output_type": "stream",
     "text": [
      "Year                       int64\n",
      "Rank                       int64\n",
      "Company                   object\n",
      "Revenue (in millions)    float64\n",
      "Profit (in millions)      object\n",
      "dtype: object\n"
     ]
    }
   ],
   "source": [
    "f500['Revenue (in millions)'] = pd.to_numeric(f500['Revenue (in millions)'], errors='coerce')"
   ]
  },
  {
   "cell_type": "code",
   "execution_count": 10,
   "metadata": {},
   "outputs": [
    {
     "name": "stdout",
     "output_type": "stream",
     "text": [
      "Year                       int64\n",
      "Rank                       int64\n",
      "Company                   object\n",
      "Revenue (in millions)    float64\n",
      "Profit (in millions)     float64\n",
      "dtype: object\n"
     ]
    }
   ],
   "source": [
    "f500['Profit (in millions)'] = pd.to_numeric(f500['Profit (in millions)'], errors='coerce')\n",
    "print(f500.dtypes)"
   ]
  },
  {
   "cell_type": "code",
   "execution_count": 16,
   "metadata": {},
   "outputs": [
    {
     "data": {
      "text/html": [
       "<div>\n",
       "<style scoped>\n",
       "    .dataframe tbody tr th:only-of-type {\n",
       "        vertical-align: middle;\n",
       "    }\n",
       "\n",
       "    .dataframe tbody tr th {\n",
       "        vertical-align: top;\n",
       "    }\n",
       "\n",
       "    .dataframe thead th {\n",
       "        text-align: right;\n",
       "    }\n",
       "</style>\n",
       "<table border=\"1\" class=\"dataframe\">\n",
       "  <thead>\n",
       "    <tr style=\"text-align: right;\">\n",
       "      <th></th>\n",
       "      <th>Year</th>\n",
       "      <th>Rank</th>\n",
       "      <th>Revenue</th>\n",
       "      <th>Profit</th>\n",
       "    </tr>\n",
       "  </thead>\n",
       "  <tbody>\n",
       "    <tr>\n",
       "      <th>count</th>\n",
       "      <td>29500.000000</td>\n",
       "      <td>29500.000000</td>\n",
       "      <td>2.750000e+04</td>\n",
       "      <td>2.869600e+04</td>\n",
       "    </tr>\n",
       "    <tr>\n",
       "      <th>mean</th>\n",
       "      <td>1983.728814</td>\n",
       "      <td>284.397966</td>\n",
       "      <td>4.743083e+09</td>\n",
       "      <td>2.461071e+08</td>\n",
       "    </tr>\n",
       "    <tr>\n",
       "      <th>std</th>\n",
       "      <td>16.616417</td>\n",
       "      <td>191.401503</td>\n",
       "      <td>1.278372e+10</td>\n",
       "      <td>1.286469e+09</td>\n",
       "    </tr>\n",
       "    <tr>\n",
       "      <th>min</th>\n",
       "      <td>1955.000000</td>\n",
       "      <td>1.000000</td>\n",
       "      <td>4.970000e+07</td>\n",
       "      <td>-9.869600e+10</td>\n",
       "    </tr>\n",
       "    <tr>\n",
       "      <th>25%</th>\n",
       "      <td>1969.000000</td>\n",
       "      <td>135.000000</td>\n",
       "      <td>4.046000e+08</td>\n",
       "      <td>9.600000e+06</td>\n",
       "    </tr>\n",
       "    <tr>\n",
       "      <th>50%</th>\n",
       "      <td>1984.000000</td>\n",
       "      <td>269.000000</td>\n",
       "      <td>1.223350e+09</td>\n",
       "      <td>4.400000e+07</td>\n",
       "    </tr>\n",
       "    <tr>\n",
       "      <th>75%</th>\n",
       "      <td>1999.000000</td>\n",
       "      <td>403.000000</td>\n",
       "      <td>4.200750e+09</td>\n",
       "      <td>1.964000e+08</td>\n",
       "    </tr>\n",
       "    <tr>\n",
       "      <th>max</th>\n",
       "      <td>2009.000000</td>\n",
       "      <td>1000.000000</td>\n",
       "      <td>3.511390e+11</td>\n",
       "      <td>3.950000e+10</td>\n",
       "    </tr>\n",
       "  </tbody>\n",
       "</table>\n",
       "</div>"
      ],
      "text/plain": [
       "               Year          Rank       Revenue        Profit\n",
       "count  29500.000000  29500.000000  2.750000e+04  2.869600e+04\n",
       "mean    1983.728814    284.397966  4.743083e+09  2.461071e+08\n",
       "std       16.616417    191.401503  1.278372e+10  1.286469e+09\n",
       "min     1955.000000      1.000000  4.970000e+07 -9.869600e+10\n",
       "25%     1969.000000    135.000000  4.046000e+08  9.600000e+06\n",
       "50%     1984.000000    269.000000  1.223350e+09  4.400000e+07\n",
       "75%     1999.000000    403.000000  4.200750e+09  1.964000e+08\n",
       "max     2009.000000   1000.000000  3.511390e+11  3.950000e+10"
      ]
     },
     "execution_count": 16,
     "metadata": {},
     "output_type": "execute_result"
    }
   ],
   "source": [
    "f500.describe()"
   ]
  },
  {
   "cell_type": "code",
   "execution_count": 12,
   "metadata": {},
   "outputs": [],
   "source": [
    "f500['Revenue'] = f500['Revenue (in millions)'] * 1000000"
   ]
  },
  {
   "cell_type": "code",
   "execution_count": 13,
   "metadata": {},
   "outputs": [],
   "source": [
    "f500['Profit'] = f500['Profit (in millions)'] * 1000000"
   ]
  },
  {
   "cell_type": "code",
   "execution_count": 15,
   "metadata": {},
   "outputs": [],
   "source": [
    "f500.drop(['Revenue (in millions)', 'Profit (in millions)'], axis=1, inplace=True)"
   ]
  },
  {
   "cell_type": "code",
   "execution_count": 35,
   "metadata": {},
   "outputs": [],
   "source": [
    "conn, cur = create_database()\n",
    "conn.commit()"
   ]
  },
  {
   "cell_type": "code",
   "execution_count": 30,
   "metadata": {},
   "outputs": [],
   "source": [
    "f500_table = (\"\"\"CREATE TABLE IF NOT EXISTS f500(\n",
    "    Year INT,\n",
    "    Rank INT,\n",
    "    Company VARCHAR,\n",
    "    Revenue NUMERIC,\n",
    "    Profit NUMERIC\n",
    "    )\"\"\")\n",
    "\n",
    "cur.execute(f500_table)\n",
    "conn.commit()"
   ]
  },
  {
   "cell_type": "code",
   "execution_count": 31,
   "metadata": {},
   "outputs": [],
   "source": [
    "f500_table_insert = (\"\"\"INSERT INTO f500(\n",
    "    Year,\n",
    "    Rank,\n",
    "    Company,\n",
    "    Revenue,\n",
    "    Profit)\n",
    "    VALUES(%s, %s, %s, %s, %s)\n",
    "    \"\"\")"
   ]
  },
  {
   "cell_type": "code",
   "execution_count": 32,
   "metadata": {},
   "outputs": [],
   "source": [
    "for index, row in f500.iterrows():\n",
    "    cur.execute(f500_table_insert, list(row))\n",
    "\n"
   ]
  },
  {
   "cell_type": "code",
   "execution_count": 33,
   "metadata": {},
   "outputs": [],
   "source": [
    "conn.commit()"
   ]
  },
  {
   "cell_type": "code",
   "execution_count": 34,
   "metadata": {},
   "outputs": [],
   "source": [
    "conn.close()"
   ]
  }
 ],
 "metadata": {
  "kernelspec": {
   "display_name": "Python 3",
   "language": "python",
   "name": "python3"
  },
  "language_info": {
   "codemirror_mode": {
    "name": "ipython",
    "version": 3
   },
   "file_extension": ".py",
   "mimetype": "text/x-python",
   "name": "python",
   "nbconvert_exporter": "python",
   "pygments_lexer": "ipython3",
   "version": "3.10.3"
  },
  "orig_nbformat": 4,
  "vscode": {
   "interpreter": {
    "hash": "b442dde50f3edd6be831df5d08ccd5bc4b6c6822e271a6bbe7ba0325409cf967"
   }
  }
 },
 "nbformat": 4,
 "nbformat_minor": 2
}
