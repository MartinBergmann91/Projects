{
 "cells": [
  {
   "cell_type": "code",
   "execution_count": 3,
   "metadata": {},
   "outputs": [],
   "source": [
    "import psycopg2\n",
    "import pandas as pd"
   ]
  },
  {
   "cell_type": "code",
   "execution_count": 20,
   "metadata": {},
   "outputs": [],
   "source": [
    "def create_database():\n",
    "    #connect to default database\n",
    "    conn = psycopg2.connect(\"host=127.0.0.1 dbname=postgres user=postgres password=postgres\")\n",
    "    conn.set_session(autocommit = True)\n",
    "    cur = conn.cursor()\n",
    "\n",
    "    #create new database\n",
    "    cur.execute(\"DROP DATABASE IF EXISTS fortune500\")\n",
    "    cur.execute(\"CREATE DATABASE fortune500\")\n",
    "\n",
    "    #close default connection\n",
    "    conn.close()\n",
    "\n",
    "    #connect to new database\n",
    "    conn = psycopg2.connect(\"host=127.0.0.1 dbname=fortune500 user=postgres password=postgres\")\n",
    "    cur = conn.cursor()\n",
    "\n",
    "    return conn, cur"
   ]
  },
  {
   "cell_type": "code",
   "execution_count": 4,
   "metadata": {},
   "outputs": [],
   "source": [
    "#read csv file\n",
    "f500 = pd.read_csv(r'C:\\Users\\martin.bergmann\\python_scripts\\Projects\\Postgres\\data\\fortune500.csv')"
   ]
  },
  {
   "cell_type": "code",
   "execution_count": null,
   "metadata": {},
   "outputs": [],
   "source": [
    "f500.head()"
   ]
  },
  {
   "cell_type": "code",
   "execution_count": null,
   "metadata": {},
   "outputs": [],
   "source": [
    "f500.dtypes\n"
   ]
  },
  {
   "cell_type": "code",
   "execution_count": null,
   "metadata": {},
   "outputs": [],
   "source": [
    "#convert string values to numeric\n",
    "f500['Revenue (in millions)'] = pd.to_numeric(f500['Revenue (in millions)'], errors='coerce')"
   ]
  },
  {
   "cell_type": "code",
   "execution_count": null,
   "metadata": {},
   "outputs": [],
   "source": [
    "f500['Profit (in millions)'] = pd.to_numeric(f500['Profit (in millions)'], errors='coerce')\n",
    "print(f500.dtypes)"
   ]
  },
  {
   "cell_type": "code",
   "execution_count": null,
   "metadata": {},
   "outputs": [],
   "source": [
    "f500.describe()"
   ]
  },
  {
   "cell_type": "code",
   "execution_count": 12,
   "metadata": {},
   "outputs": [],
   "source": [
    "#calculate proper values\n",
    "f500['Revenue'] = f500['Revenue (in millions)'] * 1000000"
   ]
  },
  {
   "cell_type": "code",
   "execution_count": 13,
   "metadata": {},
   "outputs": [],
   "source": [
    "f500['Profit'] = f500['Profit (in millions)'] * 1000000"
   ]
  },
  {
   "cell_type": "code",
   "execution_count": 15,
   "metadata": {},
   "outputs": [],
   "source": [
    "#drop all unnecessary columns\n",
    "f500.drop(['Revenue (in millions)', 'Profit (in millions)'], axis=1, inplace=True)"
   ]
  },
  {
   "cell_type": "code",
   "execution_count": 35,
   "metadata": {},
   "outputs": [],
   "source": [
    "#create new database with function\n",
    "conn, cur = create_database()\n",
    "conn.commit()"
   ]
  },
  {
   "cell_type": "code",
   "execution_count": 30,
   "metadata": {},
   "outputs": [],
   "source": [
    "#create table in database\n",
    "f500_table = (\"\"\"CREATE TABLE IF NOT EXISTS f500(\n",
    "    Year INT,\n",
    "    Rank INT,\n",
    "    Company VARCHAR,\n",
    "    Revenue NUMERIC,\n",
    "    Profit NUMERIC\n",
    "    )\"\"\")\n",
    "\n",
    "cur.execute(f500_table)\n",
    "conn.commit()"
   ]
  },
  {
   "cell_type": "code",
   "execution_count": 31,
   "metadata": {},
   "outputs": [],
   "source": [
    "#create insert statement\n",
    "f500_table_insert = (\"\"\"INSERT INTO f500(\n",
    "    Year,\n",
    "    Rank,\n",
    "    Company,\n",
    "    Revenue,\n",
    "    Profit)\n",
    "    VALUES(%s, %s, %s, %s, %s)\n",
    "    \"\"\")"
   ]
  },
  {
   "cell_type": "code",
   "execution_count": 32,
   "metadata": {},
   "outputs": [],
   "source": [
    "#insert data into table\n",
    "for index, row in f500.iterrows():\n",
    "    cur.execute(f500_table_insert, list(row))\n",
    "\n"
   ]
  },
  {
   "cell_type": "code",
   "execution_count": 33,
   "metadata": {},
   "outputs": [],
   "source": [
    "conn.commit()"
   ]
  },
  {
   "cell_type": "code",
   "execution_count": 34,
   "metadata": {},
   "outputs": [],
   "source": [
    "conn.close()"
   ]
  }
 ],
 "metadata": {
  "kernelspec": {
   "display_name": "Python 3",
   "language": "python",
   "name": "python3"
  },
  "language_info": {
   "codemirror_mode": {
    "name": "ipython",
    "version": 3
   },
   "file_extension": ".py",
   "mimetype": "text/x-python",
   "name": "python",
   "nbconvert_exporter": "python",
   "pygments_lexer": "ipython3",
   "version": "3.10.3 (tags/v3.10.3:a342a49, Mar 16 2022, 13:07:40) [MSC v.1929 64 bit (AMD64)]"
  },
  "orig_nbformat": 4,
  "vscode": {
   "interpreter": {
    "hash": "b442dde50f3edd6be831df5d08ccd5bc4b6c6822e271a6bbe7ba0325409cf967"
   }
  }
 },
 "nbformat": 4,
 "nbformat_minor": 2
}
