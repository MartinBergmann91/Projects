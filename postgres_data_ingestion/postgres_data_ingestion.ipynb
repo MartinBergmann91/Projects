{
 "cells": [
  {
   "cell_type": "code",
   "execution_count": 2,
   "metadata": {},
   "outputs": [],
   "source": [
    "import psycopg2\n",
    "import pandas as pd"
   ]
  },
  {
   "cell_type": "code",
   "execution_count": 20,
   "metadata": {},
   "outputs": [],
   "source": [
    "def create_database():\n",
    "    #connect to default database\n",
    "    conn = psycopg2.connect(\"host=127.0.0.1 dbname=postgres user=postgres password=postgres\")\n",
    "    conn.set_session(autocommit = True)\n",
    "    cur = conn.cursor()\n",
    "\n",
    "    #create new database\n",
    "    cur.execute(\"DROP DATABASE IF EXISTS fortune500\")\n",
    "    cur.execute(\"CREATE DATABASE fortune500\")\n",
    "\n",
    "    #close default connection\n",
    "    conn.close()\n",
    "\n",
    "    #connect to new database\n",
    "    conn = psycopg2.connect(\"host=127.0.0.1 dbname=fortune500 user=postgres password=postgres\")\n",
    "    cur = conn.cursor()\n",
    "\n",
    "    return conn, cur"
   ]
  },
  {
   "cell_type": "code",
   "execution_count": 6,
   "metadata": {},
   "outputs": [],
   "source": [
    "#read csv file\n",
    "f500 = pd.read_csv(r'C:\\Users\\martin.bergmann\\python_scripts\\projects\\postgres_data_ingestion\\data\\fortune500.csv')"
   ]
  },
  {
   "cell_type": "code",
   "execution_count": null,
   "metadata": {},
   "outputs": [],
   "source": [
    "f500.head()"
   ]
  },
  {
   "cell_type": "code",
   "execution_count": null,
   "metadata": {},
   "outputs": [],
   "source": [
    "f500.dtypes"
   ]
  },
  {
   "cell_type": "code",
   "execution_count": 7,
   "metadata": {},
   "outputs": [],
   "source": [
    "#convert string values to numeric\n",
    "f500['Revenue (in millions)'] = pd.to_numeric(f500['Revenue (in millions)'], errors='coerce')"
   ]
  },
  {
   "cell_type": "code",
   "execution_count": null,
   "metadata": {},
   "outputs": [],
   "source": [
    "f500['Profit (in millions)'] = pd.to_numeric(f500['Profit (in millions)'], errors='coerce')\n",
    "print(f500.dtypes)"
   ]
  },
  {
   "cell_type": "code",
   "execution_count": null,
   "metadata": {},
   "outputs": [],
   "source": [
    "f500.describe()"
   ]
  },
  {
   "cell_type": "code",
   "execution_count": 9,
   "metadata": {},
   "outputs": [],
   "source": [
    "#calculate proper values\n",
    "f500['Revenue'] = f500['Revenue (in millions)'] * 1000000"
   ]
  },
  {
   "cell_type": "code",
   "execution_count": 10,
   "metadata": {},
   "outputs": [],
   "source": [
    "f500['Profit'] = f500['Profit (in millions)'] * 1000000"
   ]
  },
  {
   "cell_type": "code",
   "execution_count": 11,
   "metadata": {},
   "outputs": [],
   "source": [
    "#drop all unnecessary columns\n",
    "f500.drop(['Revenue (in millions)', 'Profit (in millions)'], axis=1, inplace=True)"
   ]
  },
  {
   "cell_type": "code",
   "execution_count": 35,
   "metadata": {},
   "outputs": [],
   "source": [
    "#create new database with function\n",
    "conn, cur = create_database()\n",
    "conn.commit()"
   ]
  },
  {
   "cell_type": "code",
   "execution_count": 15,
   "metadata": {},
   "outputs": [],
   "source": [
    "#create table in database\n",
    "f500_table = (\"\"\"CREATE TABLE IF NOT EXISTS f500(\n",
    "    Year INT,\n",
    "    Rank INT,\n",
    "    Company VARCHAR,\n",
    "    Revenue NUMERIC,\n",
    "    Profit NUMERIC\n",
    "    )\"\"\")\n",
    "\n",
    "cur.execute(f500_table)\n",
    "conn.commit()"
   ]
  },
  {
   "cell_type": "code",
   "execution_count": 14,
   "metadata": {},
   "outputs": [],
   "source": [
    "#create insert statement\n",
    "f500_table_insert = (\"\"\"INSERT INTO f500(\n",
    "    Year,\n",
    "    Rank,\n",
    "    Company,\n",
    "    Revenue,\n",
    "    Profit)\n",
    "    VALUES(%s, %s, %s, %s, %s)\n",
    "    \"\"\")"
   ]
  },
  {
   "cell_type": "code",
   "execution_count": 16,
   "metadata": {},
   "outputs": [],
   "source": [
    "#insert data into table\n",
    "for index, row in f500.iterrows():\n",
    "    cur.execute(f500_table_insert, list(row))\n",
    "\n"
   ]
  },
  {
   "cell_type": "code",
   "execution_count": 17,
   "metadata": {},
   "outputs": [],
   "source": [
    "conn.commit()"
   ]
  },
  {
   "cell_type": "code",
   "execution_count": 37,
   "metadata": {},
   "outputs": [],
   "source": [
    "#check if data got ingested\n",
    "cur.execute(\"\"\"SELECT * FROM f500 LIMIT 100\"\"\")\n"
   ]
  },
  {
   "cell_type": "code",
   "execution_count": null,
   "metadata": {},
   "outputs": [],
   "source": [
    "results=cur.fetchall()\n",
    "results\n"
   ]
  },
  {
   "cell_type": "code",
   "execution_count": 39,
   "metadata": {},
   "outputs": [],
   "source": [
    "cur.close()\n",
    "conn.close()"
   ]
  }
 ],
 "metadata": {
  "kernelspec": {
   "display_name": "Python 3",
   "language": "python",
   "name": "python3"
  },
  "language_info": {
   "codemirror_mode": {
    "name": "ipython",
    "version": 3
   },
   "file_extension": ".py",
   "mimetype": "text/x-python",
   "name": "python",
   "nbconvert_exporter": "python",
   "pygments_lexer": "ipython3",
   "version": "3.10.3"
  },
  "orig_nbformat": 4,
  "vscode": {
   "interpreter": {
    "hash": "b442dde50f3edd6be831df5d08ccd5bc4b6c6822e271a6bbe7ba0325409cf967"
   }
  }
 },
 "nbformat": 4,
 "nbformat_minor": 2
}
